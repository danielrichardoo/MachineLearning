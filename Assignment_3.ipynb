{
 "cells": [
  {
   "cell_type": "code",
   "execution_count": 1,
   "metadata": {},
   "outputs": [],
   "source": [
    "import pandas as pd\n",
    "import numpy as np"
   ]
  },
  {
   "cell_type": "code",
   "execution_count": 2,
   "metadata": {},
   "outputs": [
    {
     "name": "stdout",
     "output_type": "stream",
     "text": [
      "id                                  int64\n",
      "name                               object\n",
      "host_id                             int64\n",
      "host_name                          object\n",
      "neighbourhood_group                object\n",
      "neighbourhood                      object\n",
      "latitude                          float64\n",
      "longitude                         float64\n",
      "room_type                          object\n",
      "price                               int64\n",
      "minimum_nights                      int64\n",
      "number_of_reviews                   int64\n",
      "last_review                        object\n",
      "reviews_per_month                 float64\n",
      "calculated_host_listings_count      int64\n",
      "availability_365                    int64\n",
      "dtype: object\n",
      "True\n"
     ]
    }
   ],
   "source": [
    "airbnb = pd.read_csv(\"listings.csv\")\n",
    "print(airbnb.dtypes)\n",
    "print(airbnb.isna().values.any())"
   ]
  },
  {
   "cell_type": "code",
   "execution_count": 3,
   "metadata": {},
   "outputs": [
    {
     "name": "stdout",
     "output_type": "stream",
     "text": [
      "Discrete : \n",
      "   minimum_nights\n",
      "0             180\n",
      "1              90\n",
      "2               6\n",
      "3               1\n",
      "4               1\n",
      "\n",
      "\n",
      "\n",
      "Continue : \n",
      "   latitude  longitude  price  number_of_reviews  reviews_per_month  \\\n",
      "0   1.44255  103.79580     83                  1               0.01   \n",
      "1   1.33235  103.78521     81                 18               0.28   \n",
      "2   1.44246  103.79667     69                 20               0.20   \n",
      "3   1.34541  103.95712    206                 14               0.15   \n",
      "4   1.34567  103.95963     94                 22               0.22   \n",
      "\n",
      "   calculated_host_listings_count  availability_365  \n",
      "0                               2               365  \n",
      "1                               1               365  \n",
      "2                               2               365  \n",
      "3                               9               353  \n",
      "4                               9               355  \n",
      "\n",
      "\n",
      "\n"
     ]
    }
   ],
   "source": [
    "newAirbnbDiscrete = airbnb[[\"minimum_nights\"]]\n",
    "newAirbnbContinue = airbnb[[\"latitude\", \"longitude\", \"price\", \"number_of_reviews\", \"reviews_per_month\", \"calculated_host_listings_count\", \"availability_365\"]]\n",
    "\n",
    "print(\"Discrete : \\n{}\\n\\n\\n\".format(newAirbnbDiscrete.head()))\n",
    "print(\"Continue : \\n{}\\n\\n\\n\".format(newAirbnbContinue.head()))"
   ]
  },
  {
   "cell_type": "code",
   "execution_count": 4,
   "metadata": {},
   "outputs": [
    {
     "name": "stdout",
     "output_type": "stream",
     "text": [
      "Discrete : \n",
      "mean = minimum_nights    17.510054\n",
      "dtype: float64\n",
      "\n",
      "variance = minimum_nights    1771.732636\n",
      "dtype: float64\n",
      "\n",
      "Continue : \n",
      "mean = latitude                            1.314192\n",
      "longitude                         103.848787\n",
      "price                             169.332996\n",
      "number_of_reviews                  12.807386\n",
      "reviews_per_month                   1.043669\n",
      "calculated_host_listings_count     40.607689\n",
      "availability_365                  208.726318\n",
      "dtype: float64\n",
      "\n",
      "variance = latitude                               0.000935\n",
      "longitude                              0.001907\n",
      "price                             115712.966513\n",
      "number_of_reviews                    882.438554\n",
      "reviews_per_month                      1.653092\n",
      "calculated_host_listings_count      4242.064633\n",
      "availability_365                   21348.364203\n",
      "dtype: float64\n",
      "\n"
     ]
    }
   ],
   "source": [
    "# Discrete\n",
    "print(\"Discrete : \")\n",
    "print(\"mean = {}\\n\".format(newAirbnbDiscrete.mean()))\n",
    "print(\"variance = {}\\n\".format(np.var(newAirbnbDiscrete)))\n",
    "#Continue\n",
    "print(\"Continue : \")\n",
    "print(\"mean = {}\\n\".format(newAirbnbContinue.mean()))\n",
    "print(\"variance = {}\\n\".format(np.var(newAirbnbContinue)))"
   ]
  },
  {
   "cell_type": "code",
   "execution_count": null,
   "metadata": {},
   "outputs": [],
   "source": []
  }
 ],
 "metadata": {
  "kernelspec": {
   "display_name": "Python 3",
   "language": "python",
   "name": "python3"
  },
  "language_info": {
   "codemirror_mode": {
    "name": "ipython",
    "version": 3
   },
   "file_extension": ".py",
   "mimetype": "text/x-python",
   "name": "python",
   "nbconvert_exporter": "python",
   "pygments_lexer": "ipython3",
   "version": "3.7.4"
  }
 },
 "nbformat": 4,
 "nbformat_minor": 2
}
