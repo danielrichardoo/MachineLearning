{
 "cells": [
  {
   "cell_type": "markdown",
   "metadata": {
    "colab_type": "text",
    "id": "cNnM2w-HCeb1"
   },
   "source": [
    "# Mengidentifikasi genre musik"
   ]
  },
  {
   "cell_type": "code",
   "execution_count": 1,
   "metadata": {
    "colab": {},
    "colab_type": "code",
    "id": "Gt3fyg6dCNvX"
   },
   "outputs": [
    {
     "name": "stderr",
     "output_type": "stream",
     "text": [
      "Using TensorFlow backend.\n"
     ]
    }
   ],
   "source": [
    "import pandas as pd\n",
    "import numpy as np\n",
    "import matplotlib.pyplot as plt\n",
    "%matplotlib inline\n",
    "import pathlib\n",
    "import csv\n",
    "from sklearn.model_selection import train_test_split\n",
    "from sklearn.preprocessing import LabelEncoder, StandardScaler\n",
    "\n",
    "import librosa as lb\n",
    "import os\n",
    "from PIL import Image\n",
    "import keras"
   ]
  },
  {
   "cell_type": "markdown",
   "metadata": {
    "colab_type": "text",
    "id": "neqMS0VoDpN5"
   },
   "source": [
    "### pakai librosa untuk mengconvert sound ke float"
   ]
  },
  {
   "cell_type": "markdown",
   "metadata": {
    "colab_type": "text",
    "id": "DPe_ebYuDqr5"
   },
   "source": [
    "### Dataset\n",
    "dataset 10 genre\n",
    " 1. Blues(100)\n",
    " 2. Classical(100)\n",
    " 3. Country(100)\n",
    " 4. Disco(100)\n",
    " 5. Hiphop(100)\n",
    " 6. Jazz(100)\n",
    " 7. Metal(100)\n",
    " 8. Pop(100)\n",
    " 9. Reggae(100)\n",
    " 10. Rock(100)\n",
    "total 1000 lagu"
   ]
  },
  {
   "cell_type": "markdown",
   "metadata": {
    "colab_type": "text",
    "id": "AfBSVfRCD3PE"
   },
   "source": [
    "### Mengambil data dari setiap musik dan mengubahnya ke spectrograms"
   ]
  },
  {
   "cell_type": "code",
   "execution_count": 2,
   "metadata": {
    "colab": {},
    "colab_type": "code",
    "id": "BHh3pTEVDdrT"
   },
   "outputs": [
    {
     "name": "stderr",
     "output_type": "stream",
     "text": [
      "F:\\ANACONDAA\\lib\\site-packages\\matplotlib\\axes\\_axes.py:7739: RuntimeWarning: divide by zero encountered in log10\n",
      "  Z = 10. * np.log10(spec)\n"
     ]
    },
    {
     "data": {
      "text/plain": [
       "<Figure size 720x720 with 0 Axes>"
      ]
     },
     "metadata": {},
     "output_type": "display_data"
    }
   ],
   "source": [
    "cmap = plt.get_cmap('inferno')\n",
    "\n",
    "plt.figure(figsize=(10,10))\n",
    "allgenre = 'blues classical country disco hiphop jazz metal pop reggae rock'.split()\n",
    "\n",
    "for i in allgenre:\n",
    "    pathlib.Path(f'datasimg/{i}').mkdir(parents=True, exist_ok=True)   \n",
    "    \n",
    "    for filename in os.listdir(f'./allgenre/{i}'):\n",
    "        songname = f'./allgenre/{i}/{filename}'\n",
    "        y, sr = lb.load(songname, mono=True, duration=5)\n",
    "        plt.specgram(y, NFFT=2048, Fs=2, Fc=0, noverlap=128, cmap=cmap, sides='default', mode='default', scale='dB');\n",
    "        plt.axis('off');\n",
    "        plt.savefig(f'datasimg/{i}/{filename[:-3].replace(\".\", \"\")}.png')\n",
    "        plt.clf()\n",
    " "
   ]
  },
  {
   "cell_type": "markdown",
   "metadata": {
    "colab_type": "text",
    "id": "SszVgjYnFNX9"
   },
   "source": [
    "### meng-extract data features dari spectogram\n",
    "#####https://medium.com/heuristics/audio-signal-feature-extraction-and-clustering-935319d2225\n",
    "* Mel-frequency cepstral coefficients\n",
    "* Spectral Centroid,\n",
    "* Zero Crossing Rate\n",
    "* Chroma Frequencies\n",
    "* Spectral Roll-off."
   ]
  },
  {
   "cell_type": "code",
   "execution_count": 3,
   "metadata": {
    "colab": {},
    "colab_type": "code",
    "id": "__g8tX8pDeIL"
   },
   "outputs": [],
   "source": [
    "featurename = 'filename  chroma_stft rmse spectral_centroid spectral_bandwidth rolloff zero_crossing_rate'\n",
    "\n",
    "for i in range(1, 21):\n",
    "    featurename += f' mfcc{i}'\n",
    "    \n",
    "featurename += ' label'\n",
    "featurename = featurename.split()"
   ]
  },
  {
   "cell_type": "markdown",
   "metadata": {
    "colab_type": "text",
    "id": "TBlT448pEqR9"
   },
   "source": [
    "### Menulis data-data file baru"
   ]
  },
  {
   "cell_type": "code",
   "execution_count": 4,
   "metadata": {
    "colab": {},
    "colab_type": "code",
    "id": "ZsSQmB0PE3Iu"
   },
   "outputs": [],
   "source": [
    "file = open('data.csv', 'w', newline='')\n",
    "rmse = lb.feature.rms(y=y)\n",
    "\n",
    "with file:\n",
    "    writer = csv.writer(file)\n",
    "    writer.writerow(featurename)\n",
    "    \n",
    "allgenre = 'blues classical country disco hiphop jazz metal pop reggae rock'.split()\n",
    "\n",
    "for i in allgenre:\n",
    "    \n",
    "    for filename in os.listdir(f'./allgenre/{i}'):\n",
    "        songname = f'./allgenre/{i}/{filename}'\n",
    "        y, sr = lb.load(songname, mono=True, duration=30)\n",
    "        \n",
    "        chroma_stft = lb.feature.chroma_stft(y=y, sr=sr)\n",
    "        spec_cent = lb.feature.spectral_centroid(y=y, sr=sr)\n",
    "        spec_bw = lb.feature.spectral_bandwidth(y=y, sr=sr)\n",
    "        rolloff = lb.feature.spectral_rolloff(y=y, sr=sr)\n",
    "        zcr = lb.feature.zero_crossing_rate(y)\n",
    "        mfcc = lb.feature.mfcc(y=y, sr=sr)\n",
    "        \n",
    "        to_append = f'{filename} {np.mean(chroma_stft)} {np.mean(rmse)} {np.mean(spec_cent)} {np.mean(spec_bw)} {np.mean(rolloff)} {np.mean(zcr)}'  \n",
    "        \n",
    "        for e in mfcc:\n",
    "            to_append += f' {np.mean(e)}'\n",
    "            \n",
    "        to_append += f' {i}'\n",
    "        file = open('data.csv', 'a', newline='')\n",
    "        \n",
    "        with file:\n",
    "            writer = csv.writer(file)\n",
    "            writer.writerow(to_append.split())"
   ]
  },
  {
   "cell_type": "markdown",
   "metadata": {
    "colab_type": "text",
    "id": "fgeCZSKQEp1A"
   },
   "source": [
    "### meng-analisa data-data mengunakan pandas"
   ]
  },
  {
   "cell_type": "code",
   "execution_count": 5,
   "metadata": {
    "colab": {
     "base_uri": "https://localhost:8080/",
     "height": 253
    },
    "colab_type": "code",
    "id": "Kr5_EdpD9dyh",
    "outputId": "81fd4a29-93fa-44f8-bf90-2f99981f761a"
   },
   "outputs": [
    {
     "data": {
      "text/plain": [
       "(1000, 28)"
      ]
     },
     "execution_count": 5,
     "metadata": {},
     "output_type": "execute_result"
    }
   ],
   "source": [
    "data = pd.read_csv('data.csv')\n",
    "data.head()\n",
    "data.shape"
   ]
  },
  {
   "cell_type": "code",
   "execution_count": 6,
   "metadata": {
    "colab": {},
    "colab_type": "code",
    "id": "veD5BgX49hZa"
   },
   "outputs": [],
   "source": [
    "# menghapus kolom number\n",
    "data = data.drop(['filename'],axis=1)"
   ]
  },
  {
   "cell_type": "markdown",
   "metadata": {
    "colab_type": "text",
    "id": "Nyr0aAAsGXjZ"
   },
   "source": [
    "### mengubah hasil output"
   ]
  },
  {
   "cell_type": "code",
   "execution_count": 7,
   "metadata": {
    "colab": {},
    "colab_type": "code",
    "id": "frI5HH4q-1HS"
   },
   "outputs": [],
   "source": [
    "listgenre = data.iloc[:, -1]\n",
    "encoder = LabelEncoder()\n",
    "y = encoder.fit_transform(listgenre)"
   ]
  },
  {
   "cell_type": "markdown",
   "metadata": {
    "colab_type": "text",
    "id": "_2n8a02zGfvP"
   },
   "source": [
    "### melakukan scaling terhadap ukuran feature"
   ]
  },
  {
   "cell_type": "code",
   "execution_count": 8,
   "metadata": {
    "colab": {},
    "colab_type": "code",
    "id": "uqcqn-nyAofk"
   },
   "outputs": [],
   "source": [
    "scaler = StandardScaler()\n",
    "X = scaler.fit_transform(np.array(data.iloc[:, :-1], dtype = float))"
   ]
  },
  {
   "cell_type": "markdown",
   "metadata": {
    "colab_type": "text",
    "id": "e3VZvbwpGo9R"
   },
   "source": [
    "### Membagi data menjadi training dan testing"
   ]
  },
  {
   "cell_type": "code",
   "execution_count": 9,
   "metadata": {
    "colab": {},
    "colab_type": "code",
    "id": "F1GW3VvQA7Rj"
   },
   "outputs": [
    {
     "data": {
      "text/plain": [
       "array([-0.84250827,  0.        , -1.38042918, -1.30633306, -1.45978919,\n",
       "       -1.18211907, -0.26731443,  1.94622997, -0.40956695, -0.34677642,\n",
       "        0.70916172, -1.93403168, -0.05435653, -0.9546355 , -0.22193281,\n",
       "       -1.3086826 ,  0.9868096 , -1.22953889, -0.27597007,  0.40068073,\n",
       "       -0.31980677, -0.92260604, -0.50221837, -0.6327032 ,  0.39715946,\n",
       "       -0.08867692])"
      ]
     },
     "execution_count": 9,
     "metadata": {},
     "output_type": "execute_result"
    }
   ],
   "source": [
    "X_train, X_test, y_train, y_test = train_test_split(X, y, test_size=0.2)\n",
    "len(y_train)\n",
    "len(y_test)\n",
    "X_train[10]"
   ]
  },
  {
   "cell_type": "markdown",
   "metadata": {
    "colab_type": "text",
    "id": "Vp2yc5FWG04e"
   },
   "source": [
    "### klasifikasi menggunakan keras"
   ]
  },
  {
   "cell_type": "code",
   "execution_count": 10,
   "metadata": {
    "colab": {},
    "colab_type": "code",
    "id": "Qj3sc2uFEUMt"
   },
   "outputs": [],
   "source": [
    "from keras import models\n",
    "from keras import layers\n",
    "\n",
    "model = models.Sequential()\n",
    "model.add(layers.Dense(256, activation='relu', input_shape=(X_train.shape[1],)))\n",
    "\n",
    "model.add(layers.Dense(128, activation='relu'))\n",
    "\n",
    "model.add(layers.Dense(64, activation='relu'))\n",
    "\n",
    "model.add(layers.Dense(10, activation='softmax'))"
   ]
  },
  {
   "cell_type": "code",
   "execution_count": 11,
   "metadata": {
    "colab": {},
    "colab_type": "code",
    "id": "7yrsmpI6EjJ2"
   },
   "outputs": [],
   "source": [
    "model.compile(optimizer='adam', loss='sparse_categorical_crossentropy', metrics=['accuracy'])"
   ]
  },
  {
   "cell_type": "code",
   "execution_count": 12,
   "metadata": {
    "colab": {
     "base_uri": "https://localhost:8080/",
     "height": 697
    },
    "colab_type": "code",
    "id": "bP0hVm4aElS7",
    "outputId": "aacf234d-d0a9-4de4-91be-5fd45a33b279"
   },
   "outputs": [
    {
     "name": "stdout",
     "output_type": "stream",
     "text": [
      "Epoch 1/20\n",
      "800/800 [==============================] - 0s 303us/step - loss: 2.1909 - accuracy: 0.2450\n",
      "Epoch 2/20\n",
      "800/800 [==============================] - 0s 17us/step - loss: 1.8816 - accuracy: 0.3675\n",
      "Epoch 3/20\n",
      "800/800 [==============================] - 0s 15us/step - loss: 1.6514 - accuracy: 0.4162\n",
      "Epoch 4/20\n",
      "800/800 [==============================] - 0s 16us/step - loss: 1.4648 - accuracy: 0.4800\n",
      "Epoch 5/20\n",
      "800/800 [==============================] - 0s 15us/step - loss: 1.3283 - accuracy: 0.5562\n",
      "Epoch 6/20\n",
      "800/800 [==============================] - 0s 15us/step - loss: 1.2294 - accuracy: 0.5713\n",
      "Epoch 7/20\n",
      "800/800 [==============================] - 0s 15us/step - loss: 1.1449 - accuracy: 0.5962\n",
      "Epoch 8/20\n",
      "800/800 [==============================] - 0s 15us/step - loss: 1.0623 - accuracy: 0.6488\n",
      "Epoch 9/20\n",
      "800/800 [==============================] - 0s 16us/step - loss: 1.0113 - accuracy: 0.6650\n",
      "Epoch 10/20\n",
      "800/800 [==============================] - 0s 16us/step - loss: 0.9635 - accuracy: 0.6900\n",
      "Epoch 11/20\n",
      "800/800 [==============================] - 0s 17us/step - loss: 0.9299 - accuracy: 0.6888\n",
      "Epoch 12/20\n",
      "800/800 [==============================] - 0s 16us/step - loss: 0.8649 - accuracy: 0.7113\n",
      "Epoch 13/20\n",
      "800/800 [==============================] - 0s 16us/step - loss: 0.8399 - accuracy: 0.7350\n",
      "Epoch 14/20\n",
      "800/800 [==============================] - 0s 16us/step - loss: 0.8159 - accuracy: 0.7300\n",
      "Epoch 15/20\n",
      "800/800 [==============================] - 0s 15us/step - loss: 0.7651 - accuracy: 0.7462\n",
      "Epoch 16/20\n",
      "800/800 [==============================] - 0s 16us/step - loss: 0.7235 - accuracy: 0.7650\n",
      "Epoch 17/20\n",
      "800/800 [==============================] - 0s 14us/step - loss: 0.7122 - accuracy: 0.7600\n",
      "Epoch 18/20\n",
      "800/800 [==============================] - 0s 16us/step - loss: 0.6728 - accuracy: 0.7788\n",
      "Epoch 19/20\n",
      "800/800 [==============================] - 0s 15us/step - loss: 0.6386 - accuracy: 0.8075\n",
      "Epoch 20/20\n",
      "800/800 [==============================] - 0s 15us/step - loss: 0.6121 - accuracy: 0.8050\n"
     ]
    }
   ],
   "source": [
    "history = model.fit(X_train,y_train,epochs=20,batch_size=128)    "
   ]
  },
  {
   "cell_type": "code",
   "execution_count": 13,
   "metadata": {
    "colab": {
     "base_uri": "https://localhost:8080/",
     "height": 34
    },
    "colab_type": "code",
    "id": "0m1J0_wUFK4C",
    "outputId": "ffd3bf36-29ea-437a-987c-9aa600b9dae6"
   },
   "outputs": [
    {
     "name": "stdout",
     "output_type": "stream",
     "text": [
      "200/200 [==============================] - 0s 329us/step\n"
     ]
    }
   ],
   "source": [
    "test_loss, test_acc = model.evaluate(X_test,y_test)"
   ]
  },
  {
   "cell_type": "code",
   "execution_count": 14,
   "metadata": {
    "colab": {
     "base_uri": "https://localhost:8080/",
     "height": 34
    },
    "colab_type": "code",
    "id": "f6HrjXeUF0Ko",
    "outputId": "ea282dbd-6f9e-48c7-de2d-dc9afde8949e"
   },
   "outputs": [
    {
     "name": "stdout",
     "output_type": "stream",
     "text": [
      "test_acc:  0.6449999809265137\n"
     ]
    }
   ],
   "source": [
    "print('test_acc: ',test_acc)"
   ]
  },
  {
   "cell_type": "code",
   "execution_count": 15,
   "metadata": {
    "colab": {},
    "colab_type": "code",
    "id": "xJNbvYZoF7ZT"
   },
   "outputs": [],
   "source": [
    "x_val = X_train[:200]\n",
    "partial_x_train = X_train[200:]\n",
    "\n",
    "y_val = y_train[:200]\n",
    "partial_y_train = y_train[200:]"
   ]
  },
  {
   "cell_type": "markdown",
   "metadata": {
    "colab_type": "text",
    "id": "L1EkG59EHeEV"
   },
   "source": [
    "### TRAIN TRAIN TRAIN TRAINNNNNNNNNNNNNNNNNNNNNNNNNNNNNNNNNNNNNNNNNNNNNNNNNNNN"
   ]
  },
  {
   "cell_type": "code",
   "execution_count": 16,
   "metadata": {
    "colab": {
     "base_uri": "https://localhost:8080/",
     "height": 1071
    },
    "colab_type": "code",
    "id": "Dp3G4P3aP4k2",
    "outputId": "25e1a389-1ac2-425b-bd5f-05736b6e9b96"
   },
   "outputs": [
    {
     "name": "stdout",
     "output_type": "stream",
     "text": [
      "Train on 600 samples, validate on 200 samples\n",
      "Epoch 1/100\n",
      "600/600 [==============================] - 0s 566us/step - loss: 2.3126 - accuracy: 0.0817 - val_loss: 2.1984 - val_accuracy: 0.2700\n",
      "Epoch 2/100\n",
      "600/600 [==============================] - 0s 22us/step - loss: 2.1603 - accuracy: 0.3033 - val_loss: 2.0754 - val_accuracy: 0.3250\n",
      "Epoch 3/100\n",
      "600/600 [==============================] - 0s 23us/step - loss: 2.0282 - accuracy: 0.3233 - val_loss: 1.9542 - val_accuracy: 0.3500\n",
      "Epoch 4/100\n",
      "600/600 [==============================] - 0s 20us/step - loss: 1.8924 - accuracy: 0.3500 - val_loss: 1.8576 - val_accuracy: 0.3950\n",
      "Epoch 5/100\n",
      "600/600 [==============================] - 0s 20us/step - loss: 1.7786 - accuracy: 0.3800 - val_loss: 1.7665 - val_accuracy: 0.4050\n",
      "Epoch 6/100\n",
      "600/600 [==============================] - 0s 20us/step - loss: 1.6731 - accuracy: 0.4117 - val_loss: 1.6834 - val_accuracy: 0.3800\n",
      "Epoch 7/100\n",
      "600/600 [==============================] - 0s 20us/step - loss: 1.5734 - accuracy: 0.4433 - val_loss: 1.6247 - val_accuracy: 0.4000\n",
      "Epoch 8/100\n",
      "600/600 [==============================] - 0s 20us/step - loss: 1.4807 - accuracy: 0.4683 - val_loss: 1.5661 - val_accuracy: 0.4150\n",
      "Epoch 9/100\n",
      "600/600 [==============================] - 0s 18us/step - loss: 1.3927 - accuracy: 0.5267 - val_loss: 1.5125 - val_accuracy: 0.4400\n",
      "Epoch 10/100\n",
      "600/600 [==============================] - 0s 23us/step - loss: 1.3117 - accuracy: 0.5483 - val_loss: 1.4846 - val_accuracy: 0.4600\n",
      "Epoch 11/100\n",
      "600/600 [==============================] - 0s 18us/step - loss: 1.2517 - accuracy: 0.5733 - val_loss: 1.4505 - val_accuracy: 0.4750\n",
      "Epoch 12/100\n",
      "600/600 [==============================] - 0s 18us/step - loss: 1.1814 - accuracy: 0.6017 - val_loss: 1.4254 - val_accuracy: 0.5100\n",
      "Epoch 13/100\n",
      "600/600 [==============================] - 0s 20us/step - loss: 1.1244 - accuracy: 0.6200 - val_loss: 1.4041 - val_accuracy: 0.5150\n",
      "Epoch 14/100\n",
      "600/600 [==============================] - 0s 20us/step - loss: 1.0729 - accuracy: 0.6417 - val_loss: 1.3736 - val_accuracy: 0.5150\n",
      "Epoch 15/100\n",
      "600/600 [==============================] - 0s 22us/step - loss: 1.0074 - accuracy: 0.6517 - val_loss: 1.3659 - val_accuracy: 0.5050\n",
      "Epoch 16/100\n",
      "600/600 [==============================] - 0s 20us/step - loss: 0.9663 - accuracy: 0.6733 - val_loss: 1.3710 - val_accuracy: 0.5250\n",
      "Epoch 17/100\n",
      "600/600 [==============================] - 0s 20us/step - loss: 0.9267 - accuracy: 0.6817 - val_loss: 1.3922 - val_accuracy: 0.5100\n",
      "Epoch 18/100\n",
      "600/600 [==============================] - 0s 20us/step - loss: 0.8914 - accuracy: 0.7033 - val_loss: 1.3534 - val_accuracy: 0.5500\n",
      "Epoch 19/100\n",
      "600/600 [==============================] - 0s 20us/step - loss: 0.8584 - accuracy: 0.7117 - val_loss: 1.2983 - val_accuracy: 0.5900\n",
      "Epoch 20/100\n",
      "600/600 [==============================] - 0s 20us/step - loss: 0.8116 - accuracy: 0.7150 - val_loss: 1.3339 - val_accuracy: 0.5350\n",
      "Epoch 21/100\n",
      "600/600 [==============================] - 0s 20us/step - loss: 0.7863 - accuracy: 0.7367 - val_loss: 1.3421 - val_accuracy: 0.5450\n",
      "Epoch 22/100\n",
      "600/600 [==============================] - 0s 21us/step - loss: 0.7651 - accuracy: 0.7433 - val_loss: 1.3133 - val_accuracy: 0.5550\n",
      "Epoch 23/100\n",
      "600/600 [==============================] - ETA: 0s - loss: 0.7374 - accuracy: 0.74 - 0s 20us/step - loss: 0.7317 - accuracy: 0.7550 - val_loss: 1.2859 - val_accuracy: 0.5500\n",
      "Epoch 24/100\n",
      "600/600 [==============================] - 0s 22us/step - loss: 0.7084 - accuracy: 0.7617 - val_loss: 1.3093 - val_accuracy: 0.5700\n",
      "Epoch 25/100\n",
      "600/600 [==============================] - 0s 20us/step - loss: 0.6790 - accuracy: 0.7833 - val_loss: 1.3272 - val_accuracy: 0.5800\n",
      "Epoch 26/100\n",
      "600/600 [==============================] - 0s 18us/step - loss: 0.6502 - accuracy: 0.7900 - val_loss: 1.3206 - val_accuracy: 0.5600\n",
      "Epoch 27/100\n",
      "600/600 [==============================] - 0s 22us/step - loss: 0.6388 - accuracy: 0.7833 - val_loss: 1.3092 - val_accuracy: 0.6050\n",
      "Epoch 28/100\n",
      "600/600 [==============================] - 0s 18us/step - loss: 0.6062 - accuracy: 0.7883 - val_loss: 1.2973 - val_accuracy: 0.5650\n",
      "Epoch 29/100\n",
      "600/600 [==============================] - 0s 23us/step - loss: 0.5861 - accuracy: 0.8100 - val_loss: 1.2734 - val_accuracy: 0.5900\n",
      "Epoch 30/100\n",
      "600/600 [==============================] - 0s 20us/step - loss: 0.5574 - accuracy: 0.8233 - val_loss: 1.2662 - val_accuracy: 0.6100\n",
      "Epoch 31/100\n",
      "600/600 [==============================] - 0s 30us/step - loss: 0.5493 - accuracy: 0.8233 - val_loss: 1.2834 - val_accuracy: 0.6050\n",
      "Epoch 32/100\n",
      "600/600 [==============================] - 0s 18us/step - loss: 0.5118 - accuracy: 0.8450 - val_loss: 1.3043 - val_accuracy: 0.5700\n",
      "Epoch 33/100\n",
      "600/600 [==============================] - 0s 22us/step - loss: 0.4944 - accuracy: 0.8583 - val_loss: 1.2415 - val_accuracy: 0.6150\n",
      "Epoch 34/100\n",
      "600/600 [==============================] - 0s 20us/step - loss: 0.4781 - accuracy: 0.8650 - val_loss: 1.2511 - val_accuracy: 0.6050\n",
      "Epoch 35/100\n",
      "600/600 [==============================] - 0s 20us/step - loss: 0.4552 - accuracy: 0.8600 - val_loss: 1.3373 - val_accuracy: 0.5950\n",
      "Epoch 36/100\n",
      "600/600 [==============================] - 0s 22us/step - loss: 0.4672 - accuracy: 0.8517 - val_loss: 1.2551 - val_accuracy: 0.6350\n",
      "Epoch 37/100\n",
      "600/600 [==============================] - 0s 18us/step - loss: 0.4267 - accuracy: 0.8633 - val_loss: 1.2255 - val_accuracy: 0.6300\n",
      "Epoch 38/100\n",
      "600/600 [==============================] - 0s 20us/step - loss: 0.4235 - accuracy: 0.8667 - val_loss: 1.2613 - val_accuracy: 0.6100\n",
      "Epoch 39/100\n",
      "600/600 [==============================] - 0s 20us/step - loss: 0.4135 - accuracy: 0.8850 - val_loss: 1.2799 - val_accuracy: 0.5900\n",
      "Epoch 40/100\n",
      "600/600 [==============================] - 0s 20us/step - loss: 0.3795 - accuracy: 0.9033 - val_loss: 1.2953 - val_accuracy: 0.6000\n",
      "Epoch 41/100\n",
      "600/600 [==============================] - 0s 20us/step - loss: 0.3785 - accuracy: 0.8867 - val_loss: 1.2658 - val_accuracy: 0.6100\n",
      "Epoch 42/100\n",
      "600/600 [==============================] - 0s 20us/step - loss: 0.3464 - accuracy: 0.9017 - val_loss: 1.2490 - val_accuracy: 0.6200\n",
      "Epoch 43/100\n",
      "600/600 [==============================] - 0s 20us/step - loss: 0.3254 - accuracy: 0.9217 - val_loss: 1.2207 - val_accuracy: 0.6300\n",
      "Epoch 44/100\n",
      "600/600 [==============================] - 0s 20us/step - loss: 0.3176 - accuracy: 0.9200 - val_loss: 1.2121 - val_accuracy: 0.6200\n",
      "Epoch 45/100\n",
      "600/600 [==============================] - 0s 22us/step - loss: 0.3020 - accuracy: 0.9217 - val_loss: 1.2577 - val_accuracy: 0.6150\n",
      "Epoch 46/100\n",
      "600/600 [==============================] - 0s 20us/step - loss: 0.2800 - accuracy: 0.9433 - val_loss: 1.2808 - val_accuracy: 0.6250\n",
      "Epoch 47/100\n",
      "600/600 [==============================] - 0s 20us/step - loss: 0.2728 - accuracy: 0.9383 - val_loss: 1.2294 - val_accuracy: 0.6300\n",
      "Epoch 48/100\n",
      "600/600 [==============================] - 0s 22us/step - loss: 0.2619 - accuracy: 0.9467 - val_loss: 1.2116 - val_accuracy: 0.6150\n",
      "Epoch 49/100\n",
      "600/600 [==============================] - 0s 20us/step - loss: 0.2516 - accuracy: 0.9517 - val_loss: 1.2551 - val_accuracy: 0.6250\n",
      "Epoch 50/100\n",
      "600/600 [==============================] - 0s 20us/step - loss: 0.2346 - accuracy: 0.9567 - val_loss: 1.3015 - val_accuracy: 0.6450\n",
      "Epoch 51/100\n",
      "600/600 [==============================] - 0s 18us/step - loss: 0.2299 - accuracy: 0.9517 - val_loss: 1.2879 - val_accuracy: 0.6350\n",
      "Epoch 52/100\n",
      "600/600 [==============================] - 0s 20us/step - loss: 0.2332 - accuracy: 0.9417 - val_loss: 1.3129 - val_accuracy: 0.6050\n",
      "Epoch 53/100\n",
      "600/600 [==============================] - 0s 22us/step - loss: 0.2083 - accuracy: 0.9567 - val_loss: 1.3398 - val_accuracy: 0.6350\n",
      "Epoch 54/100\n",
      "600/600 [==============================] - 0s 22us/step - loss: 0.2067 - accuracy: 0.9600 - val_loss: 1.2987 - val_accuracy: 0.6450\n",
      "Epoch 55/100\n",
      "600/600 [==============================] - 0s 20us/step - loss: 0.1962 - accuracy: 0.9600 - val_loss: 1.2786 - val_accuracy: 0.6200\n",
      "Epoch 56/100\n",
      "600/600 [==============================] - 0s 20us/step - loss: 0.1809 - accuracy: 0.9650 - val_loss: 1.3433 - val_accuracy: 0.6100\n",
      "Epoch 57/100\n",
      "600/600 [==============================] - 0s 20us/step - loss: 0.1792 - accuracy: 0.9667 - val_loss: 1.3613 - val_accuracy: 0.6350\n",
      "Epoch 58/100\n",
      "600/600 [==============================] - 0s 20us/step - loss: 0.1691 - accuracy: 0.9667 - val_loss: 1.3475 - val_accuracy: 0.6500\n",
      "Epoch 59/100\n",
      "600/600 [==============================] - 0s 23us/step - loss: 0.1581 - accuracy: 0.9733 - val_loss: 1.3548 - val_accuracy: 0.6450\n",
      "Epoch 60/100\n",
      "600/600 [==============================] - 0s 22us/step - loss: 0.1631 - accuracy: 0.9683 - val_loss: 1.3478 - val_accuracy: 0.6300\n",
      "Epoch 61/100\n",
      "600/600 [==============================] - 0s 25us/step - loss: 0.1498 - accuracy: 0.9783 - val_loss: 1.3790 - val_accuracy: 0.6250\n",
      "Epoch 62/100\n",
      "600/600 [==============================] - ETA: 0s - loss: 0.1416 - accuracy: 0.98 - 0s 23us/step - loss: 0.1422 - accuracy: 0.9817 - val_loss: 1.3838 - val_accuracy: 0.5950\n",
      "Epoch 63/100\n",
      "600/600 [==============================] - 0s 22us/step - loss: 0.1327 - accuracy: 0.9817 - val_loss: 1.3673 - val_accuracy: 0.6100\n",
      "Epoch 64/100\n",
      "600/600 [==============================] - 0s 22us/step - loss: 0.1283 - accuracy: 0.9717 - val_loss: 1.3765 - val_accuracy: 0.6500\n",
      "Epoch 65/100\n",
      "600/600 [==============================] - 0s 22us/step - loss: 0.1282 - accuracy: 0.9800 - val_loss: 1.4294 - val_accuracy: 0.6600\n",
      "Epoch 66/100\n",
      "600/600 [==============================] - 0s 22us/step - loss: 0.1268 - accuracy: 0.9833 - val_loss: 1.4235 - val_accuracy: 0.6500\n",
      "Epoch 67/100\n",
      "600/600 [==============================] - 0s 20us/step - loss: 0.1148 - accuracy: 0.9800 - val_loss: 1.4230 - val_accuracy: 0.6400\n",
      "Epoch 68/100\n",
      "600/600 [==============================] - 0s 22us/step - loss: 0.1023 - accuracy: 0.9833 - val_loss: 1.4487 - val_accuracy: 0.6450\n",
      "Epoch 69/100\n",
      "600/600 [==============================] - 0s 22us/step - loss: 0.1096 - accuracy: 0.9833 - val_loss: 1.4479 - val_accuracy: 0.6350\n",
      "Epoch 70/100\n",
      "600/600 [==============================] - 0s 20us/step - loss: 0.0952 - accuracy: 0.9867 - val_loss: 1.4425 - val_accuracy: 0.6250\n",
      "Epoch 71/100\n",
      "600/600 [==============================] - 0s 20us/step - loss: 0.0990 - accuracy: 0.9817 - val_loss: 1.4585 - val_accuracy: 0.6300\n",
      "Epoch 72/100\n",
      "600/600 [==============================] - 0s 18us/step - loss: 0.0899 - accuracy: 0.9883 - val_loss: 1.4789 - val_accuracy: 0.6500\n",
      "Epoch 73/100\n",
      "600/600 [==============================] - 0s 20us/step - loss: 0.0933 - accuracy: 0.9883 - val_loss: 1.4585 - val_accuracy: 0.6300\n",
      "Epoch 74/100\n",
      "600/600 [==============================] - 0s 22us/step - loss: 0.0795 - accuracy: 0.9917 - val_loss: 1.4929 - val_accuracy: 0.6200\n",
      "Epoch 75/100\n",
      "600/600 [==============================] - 0s 20us/step - loss: 0.0862 - accuracy: 0.9883 - val_loss: 1.5232 - val_accuracy: 0.6200\n",
      "Epoch 76/100\n",
      "600/600 [==============================] - 0s 22us/step - loss: 0.0732 - accuracy: 0.9967 - val_loss: 1.5394 - val_accuracy: 0.6150\n",
      "Epoch 77/100\n",
      "600/600 [==============================] - 0s 22us/step - loss: 0.0790 - accuracy: 0.9900 - val_loss: 1.4732 - val_accuracy: 0.6400\n",
      "Epoch 78/100\n",
      "600/600 [==============================] - 0s 20us/step - loss: 0.0696 - accuracy: 0.9917 - val_loss: 1.4872 - val_accuracy: 0.6350\n",
      "Epoch 79/100\n",
      "600/600 [==============================] - 0s 40us/step - loss: 0.0769 - accuracy: 0.9867 - val_loss: 1.5561 - val_accuracy: 0.6250\n",
      "Epoch 80/100\n",
      "600/600 [==============================] - 0s 20us/step - loss: 0.0636 - accuracy: 0.9950 - val_loss: 1.6004 - val_accuracy: 0.6150\n",
      "Epoch 81/100\n",
      "600/600 [==============================] - 0s 25us/step - loss: 0.0624 - accuracy: 0.9950 - val_loss: 1.5232 - val_accuracy: 0.6400\n",
      "Epoch 82/100\n",
      "600/600 [==============================] - 0s 20us/step - loss: 0.0628 - accuracy: 0.9950 - val_loss: 1.5438 - val_accuracy: 0.6500\n",
      "Epoch 83/100\n",
      "600/600 [==============================] - 0s 23us/step - loss: 0.0600 - accuracy: 0.9967 - val_loss: 1.6374 - val_accuracy: 0.6400\n",
      "Epoch 84/100\n",
      "600/600 [==============================] - 0s 22us/step - loss: 0.0636 - accuracy: 0.9950 - val_loss: 1.6360 - val_accuracy: 0.6600\n",
      "Epoch 85/100\n",
      "600/600 [==============================] - 0s 20us/step - loss: 0.0514 - accuracy: 0.9983 - val_loss: 1.6171 - val_accuracy: 0.6500\n",
      "Epoch 86/100\n",
      "600/600 [==============================] - 0s 27us/step - loss: 0.0538 - accuracy: 0.9983 - val_loss: 1.5695 - val_accuracy: 0.6600\n",
      "Epoch 87/100\n",
      "600/600 [==============================] - 0s 22us/step - loss: 0.0504 - accuracy: 0.9933 - val_loss: 1.5746 - val_accuracy: 0.6550\n",
      "Epoch 88/100\n",
      "600/600 [==============================] - 0s 23us/step - loss: 0.0466 - accuracy: 0.9967 - val_loss: 1.6145 - val_accuracy: 0.6500\n",
      "Epoch 89/100\n",
      "600/600 [==============================] - 0s 22us/step - loss: 0.0448 - accuracy: 0.9967 - val_loss: 1.6220 - val_accuracy: 0.6550\n",
      "Epoch 90/100\n",
      "600/600 [==============================] - 0s 22us/step - loss: 0.0398 - accuracy: 0.9983 - val_loss: 1.6331 - val_accuracy: 0.6500\n",
      "Epoch 91/100\n",
      "600/600 [==============================] - 0s 20us/step - loss: 0.0391 - accuracy: 0.9983 - val_loss: 1.6654 - val_accuracy: 0.6350\n",
      "Epoch 92/100\n",
      "600/600 [==============================] - 0s 22us/step - loss: 0.0373 - accuracy: 0.9983 - val_loss: 1.6658 - val_accuracy: 0.6350\n",
      "Epoch 93/100\n",
      "600/600 [==============================] - 0s 20us/step - loss: 0.0349 - accuracy: 0.9983 - val_loss: 1.6562 - val_accuracy: 0.6600\n",
      "Epoch 94/100\n",
      "600/600 [==============================] - 0s 22us/step - loss: 0.0328 - accuracy: 0.9983 - val_loss: 1.6525 - val_accuracy: 0.6650\n",
      "Epoch 95/100\n",
      "600/600 [==============================] - 0s 20us/step - loss: 0.0314 - accuracy: 0.9983 - val_loss: 1.6281 - val_accuracy: 0.6500\n",
      "Epoch 96/100\n",
      "600/600 [==============================] - 0s 22us/step - loss: 0.0291 - accuracy: 0.9983 - val_loss: 1.6346 - val_accuracy: 0.6350\n",
      "Epoch 97/100\n",
      "600/600 [==============================] - 0s 25us/step - loss: 0.0279 - accuracy: 0.9983 - val_loss: 1.6603 - val_accuracy: 0.6300\n",
      "Epoch 98/100\n",
      "600/600 [==============================] - 0s 20us/step - loss: 0.0277 - accuracy: 0.9983 - val_loss: 1.6630 - val_accuracy: 0.6450\n",
      "Epoch 99/100\n",
      "600/600 [==============================] - 0s 20us/step - loss: 0.0269 - accuracy: 0.9983 - val_loss: 1.6758 - val_accuracy: 0.6700\n",
      "Epoch 100/100\n",
      "600/600 [==============================] - 0s 18us/step - loss: 0.0262 - accuracy: 0.9983 - val_loss: 1.6792 - val_accuracy: 0.6650\n",
      "200/200 [==============================] - 0s 30us/step\n"
     ]
    },
    {
     "data": {
      "text/plain": [
       "[1.630556435585022, 0.6549999713897705]"
      ]
     },
     "execution_count": 16,
     "metadata": {},
     "output_type": "execute_result"
    }
   ],
   "source": [
    "model = models.Sequential()\n",
    "model.add(layers.Dense(512, activation='relu', input_shape=(X_train.shape[1],)))\n",
    "model.add(layers.Dense(256, activation='relu'))\n",
    "model.add(layers.Dense(128, activation='relu'))\n",
    "model.add(layers.Dense(64, activation='relu'))\n",
    "model.add(layers.Dense(10, activation='softmax'))\n",
    "\n",
    "model.compile(optimizer='adam',\n",
    "              loss='sparse_categorical_crossentropy',\n",
    "              metrics=['accuracy'])\n",
    "\n",
    "model.fit(partial_x_train,\n",
    "          partial_y_train,\n",
    "          epochs=100,\n",
    "          batch_size=512,\n",
    "          validation_data=(x_val, y_val))\n",
    "results = model.evaluate(X_test, y_test)\n",
    "results"
   ]
  },
  {
   "cell_type": "code",
   "execution_count": 17,
   "metadata": {
    "colab": {
     "base_uri": "https://localhost:8080/",
     "height": 34
    },
    "colab_type": "code",
    "id": "Mvi9it1SI4aR",
    "outputId": "98b01ef2-3935-442b-82d6-45f56e036d39"
   },
   "outputs": [
    {
     "data": {
      "text/plain": [
       "[1.630556435585022, 0.6549999713897705]"
      ]
     },
     "execution_count": 17,
     "metadata": {},
     "output_type": "execute_result"
    }
   ],
   "source": [
    "results"
   ]
  },
  {
   "cell_type": "markdown",
   "metadata": {
    "colab_type": "text",
    "id": "r3hb8s1l4rBA"
   },
   "source": [
    "## Predict Predict Predict Predictttttttttttttttttttttttttttttttttttttttttttttttttttttttttttttttttttttttttttttttttttt"
   ]
  },
  {
   "cell_type": "code",
   "execution_count": 18,
   "metadata": {
    "colab": {},
    "colab_type": "code",
    "id": "gudBAhIXJIi2"
   },
   "outputs": [],
   "source": [
    "predictions = model.predict(X_test)"
   ]
  },
  {
   "cell_type": "code",
   "execution_count": 19,
   "metadata": {
    "colab": {
     "base_uri": "https://localhost:8080/",
     "height": 34
    },
    "colab_type": "code",
    "id": "Xb7bVPSwJQF0",
    "outputId": "aca09c75-1d21-4847-bdd9-a0521dc8d948"
   },
   "outputs": [
    {
     "data": {
      "text/plain": [
       "(10,)"
      ]
     },
     "execution_count": 19,
     "metadata": {},
     "output_type": "execute_result"
    }
   ],
   "source": [
    "predictions[0].shape"
   ]
  },
  {
   "cell_type": "code",
   "execution_count": 20,
   "metadata": {
    "colab": {
     "base_uri": "https://localhost:8080/",
     "height": 34
    },
    "colab_type": "code",
    "id": "0eoEuSZqJTdU",
    "outputId": "94c17d00-dd7f-40a1-84d2-78d1ebde6103"
   },
   "outputs": [
    {
     "data": {
      "text/plain": [
       "1.0000001"
      ]
     },
     "execution_count": 20,
     "metadata": {},
     "output_type": "execute_result"
    }
   ],
   "source": [
    "np.sum(predictions[0])"
   ]
  },
  {
   "cell_type": "code",
   "execution_count": 21,
   "metadata": {
    "colab": {
     "base_uri": "https://localhost:8080/",
     "height": 34
    },
    "colab_type": "code",
    "id": "0eoEuSZqJTdU",
    "outputId": "94c17d00-dd7f-40a1-84d2-78d1ebde6103"
   },
   "outputs": [
    {
     "data": {
      "text/plain": [
       "3"
      ]
     },
     "execution_count": 21,
     "metadata": {},
     "output_type": "execute_result"
    }
   ],
   "source": [
    "np.argmax(predictions[0])"
   ]
  },
  {
   "cell_type": "code",
   "execution_count": 22,
   "metadata": {
    "colab": {},
    "colab_type": "code",
    "id": "Utgt1bXfJVRN"
   },
   "outputs": [
    {
     "ename": "SyntaxError",
     "evalue": "invalid syntax (<ipython-input-22-17193157b4f3>, line 2)",
     "output_type": "error",
     "traceback": [
      "\u001b[1;36m  File \u001b[1;32m\"<ipython-input-22-17193157b4f3>\"\u001b[1;36m, line \u001b[1;32m2\u001b[0m\n\u001b[1;33m    Librosa -> convert sound to float\u001b[0m\n\u001b[1;37m             ^\u001b[0m\n\u001b[1;31mSyntaxError\u001b[0m\u001b[1;31m:\u001b[0m invalid syntax\n"
     ]
    }
   ],
   "source": [
    "###notes\n",
    "Librosa -> convert sound to float\n",
    "OS -> create remove move change folders\n",
    "keras -> libary yang isinya kurang lebih ann\n",
    "###repppprensi\n",
    "https://medium.com/heuristics/audio-signal-feature-extraction-and-clustering-935319d2225"
   ]
  }
 ],
 "metadata": {
  "accelerator": "TPU",
  "colab": {
   "include_colab_link": true,
   "name": "Untitled9.ipynb",
   "provenance": [],
   "version": "0.3.2"
  },
  "kernelspec": {
   "display_name": "Python 3",
   "language": "python",
   "name": "python3"
  },
  "language_info": {
   "codemirror_mode": {
    "name": "ipython",
    "version": 3
   },
   "file_extension": ".py",
   "mimetype": "text/x-python",
   "name": "python",
   "nbconvert_exporter": "python",
   "pygments_lexer": "ipython3",
   "version": "3.7.4"
  }
 },
 "nbformat": 4,
 "nbformat_minor": 1
}
